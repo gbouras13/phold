{
  "nbformat": 4,
  "nbformat_minor": 0,
  "metadata": {
    "colab": {
      "provenance": [],
      "gpuType": "T4",
      "authorship_tag": "ABX9TyOj77PTdP1kYbe3Hh+rKjpK",
      "include_colab_link": true
    },
    "kernelspec": {
      "name": "python3",
      "display_name": "Python 3"
    },
    "language_info": {
      "name": "python"
    },
    "accelerator": "GPU"
  },
  "cells": [
    {
      "cell_type": "markdown",
      "metadata": {
        "id": "view-in-github",
        "colab_type": "text"
      },
      "source": [
        "<a href=\"https://colab.research.google.com/github/gbouras13/phold/blob/main/run_phold.ipynb\" target=\"_parent\"><img src=\"https://colab.research.google.com/assets/colab-badge.svg\" alt=\"Open In Colab\"/></a>"
      ]
    },
    {
      "cell_type": "markdown",
      "source": [
        "##phold\n",
        "\n",
        "[phold](https://github.com/gbouras13/phold) is a sensitive annotation tool for bacteriophage genomes and metagenomes using protein structural homology.\n",
        "\n",
        "phold uses the [ProstT5](https://github.com/mheinzinger/ProstT5) protein language model to translate protein amino acid sequences to the 3Di token alphabet used by [Foldseek](https://github.com/steineggerlab/foldseek). Foldseek is then used to search these against a database of 803k protein structures mostly predicted using [Colabfold](https://github.com/sokrypton/ColabFold).\n",
        "\n",
        "\n",
        "* Please make sure you change the runtime to T4 GPU, as this will make Phold run faster.\n",
        "* To do this, go to the top toolbar, then to Runtime -> Change runtime type -> Hardware accelerator\n",
        "* To run the cells, press the play button on the left side\n",
        "* Cells 1 and 2 install phold and download the database\n",
        "* Once they have been run, you can re-run Cell 3 as many times as you would like\n",
        "\n"
      ],
      "metadata": {
        "id": "QGd2GEI3N-02"
      }
    },
    {
      "cell_type": "code",
      "source": [
        "#@title 1. Install phold\n",
        "\n",
        "#@markdown This cell installs phold. It will take a few minutes. Please be patient\n",
        "\n",
        "%%time\n",
        "import os\n",
        "from sys import version_info\n",
        "python_version = f\"{version_info.major}.{version_info.minor}\"\n",
        "PYTHON_VERSION = python_version\n",
        "PHOLD_VERSION = \"0.1.4\"\n",
        "\n",
        "\n",
        "if not os.path.isfile(\"MAMBA_READY\"):\n",
        "  print(\"installing mamba...\")\n",
        "  os.system(\"wget -qnc https://github.com/conda-forge/miniforge/releases/latest/download/Mambaforge-Linux-x86_64.sh\")\n",
        "  os.system(\"bash Mambaforge-Linux-x86_64.sh -bfp /usr/local\")\n",
        "  os.system(\"mamba config --set auto_update_conda false\")\n",
        "  os.system(\"touch MAMBA_READY\")\n",
        "\n",
        "if not os.path.isfile(\"PHOLD_READY\"):\n",
        "  print(\"installing phold...\")\n",
        "  os.system(f\"mamba install -y -c conda-forge -c bioconda phold=={PHOLD_VERSION} python='{PYTHON_VERSION}'  pytorch=*=cuda* \")\n",
        "  os.system(\"touch PHOLD_READY\")\n",
        "\n"
      ],
      "metadata": {
        "colab": {
          "base_uri": "https://localhost:8080/"
        },
        "id": "Ii39RG8eOZUx",
        "outputId": "b0d6392d-732c-4999-df87-6adf138ee1e2"
      },
      "execution_count": 1,
      "outputs": [
        {
          "output_type": "stream",
          "name": "stdout",
          "text": [
            "installing mamba...\n",
            "installing phold...\n",
            "CPU times: user 618 ms, sys: 95 ms, total: 713 ms\n",
            "Wall time: 2min 47s\n"
          ]
        }
      ]
    },
    {
      "cell_type": "code",
      "source": [
        "#@title 2. Download phold databases\n",
        "\n",
        "#@markdown This cell downloads the phold database. It will take a few minutes. Please be patient.\n",
        "\n",
        "\n",
        "%%time\n",
        "print(\"Downloading phold database. This will take a few minutes. Please be patient :)\")\n",
        "os.system(\"phold install\")\n",
        "\n",
        "\n"
      ],
      "metadata": {
        "colab": {
          "base_uri": "https://localhost:8080/"
        },
        "id": "tfltpbZ_QLfZ",
        "outputId": "32428995-9a54-4ffb-837d-24245794e97e"
      },
      "execution_count": 2,
      "outputs": [
        {
          "output_type": "stream",
          "name": "stdout",
          "text": [
            "Downloading phold database. This will take a few minutes. Please be patient :)\n",
            "CPU times: user 1.15 s, sys: 179 ms, total: 1.33 s\n",
            "Wall time: 6min 39s\n"
          ]
        },
        {
          "output_type": "execute_result",
          "data": {
            "text/plain": [
              "0"
            ]
          },
          "metadata": {},
          "execution_count": 2
        }
      ]
    },
    {
      "cell_type": "code",
      "source": [
        "#@title 3. Run phold\n",
        "\n",
        "#@markdown Upload your phage(s) as a Pharokka GenBank or a nucleotide input FASTA\n",
        "\n",
        "#@markdown To do this, click on the folder icon to the left and use file upload button (the one with the arrow).\n",
        "\n",
        "#@markdown Once it is uploaded, write the file name in the INPUT_FILE field on the right.\n",
        "\n",
        "#@markdown This is required, otherwise phold will not run properly.\n",
        "\n",
        "#@markdown After this, you can optionally provide a directory for phold's output.\n",
        "#@markdown If you don't, it will default to 'output_phold'.\n",
        "\n",
        "#@markdown You can also provide a prefix for your output files.\n",
        "#@markdown If you provide nothing it will default to 'phold'.\n",
        "\n",
        "#@markdown You can also click FORCE to overwrite the output directory.\n",
        "#@markdown This may be useful if your earlier phold run has crashed for whatever reason.\n",
        "\n",
        "#@markdown If your input has multiple phages, you can click SEPARATE.\n",
        "#@markdown This will output separate GenBank files in the output directory.\n",
        "\n",
        "#@markdown The results of Phold will be available in the folder icon on the left hand panel.\n",
        "\n",
        "#@markdown Additionally, the output directory will be zipped so you can download the whole directory.\n",
        "#@markdown The file to download is PREFIX.zip, where PREFIX is what you provided.\n",
        "\n",
        "#@markdown Then click on the 3 dots and press download.\n",
        "\n",
        "#@markdown If you do not see the output directory,\n",
        "#@markdown refresh the window by clicking the folder with the refresh icon below \"Files\".\n",
        "\n",
        "\n",
        "\n",
        "import os\n",
        "import subprocess\n",
        "import zipfile\n",
        "INPUT_FILE = '' #@param {type:\"string\"}\n",
        "OUT_DIR = 'output_phold'  #@param {type:\"string\"}\n",
        "PREFIX = 'phold'  #@param {type:\"string\"}\n",
        "FORCE = False  #@param {type:\"boolean\"}\n",
        "SEPARATE = False  #@param {type:\"boolean\"}\n",
        "\n",
        "# Construct the command\n",
        "command = f\"phold run -i {INPUT_FILE} -t 4 -o {OUT_DIR} -p {PREFIX}\"\n",
        "\n",
        "if FORCE is True:\n",
        "  command = f\"{command} -f\"\n",
        "if SEPARATE is True:\n",
        "  command = f\"{command} --separate\"\n",
        "\n",
        "\n",
        "# Execute the command\n",
        "try:\n",
        "    print(\"Running phold\")\n",
        "    subprocess.run(command, shell=True, check=True)\n",
        "    print(\"phold completed successfully.\")\n",
        "    print(f\"Your output is in {OUT_DIR}.\")\n",
        "    print(f\"Zipping the output directory so you can download it all in one go.\")\n",
        "\n",
        "    zip_filename = f\"{OUT_DIR}.zip\"\n",
        "\n",
        "    # Zip the contents of the output directory\n",
        "    with zipfile.ZipFile(zip_filename, 'w', zipfile.ZIP_DEFLATED) as zipf:\n",
        "        for root, dirs, files in os.walk(OUT_DIR):\n",
        "            for file in files:\n",
        "                zipf.write(os.path.join(root, file), os.path.relpath(os.path.join(root, file), OUT_DIR))\n",
        "    print(f\"Output directory has been zipped to {zip_filename}\")\n",
        "\n",
        "\n",
        "except subprocess.CalledProcessError as e:\n",
        "    print(f\"Error occurred: {e}\")\n",
        "\n",
        "\n",
        "\n",
        "\n",
        "\n"
      ],
      "metadata": {
        "colab": {
          "base_uri": "https://localhost:8080/"
        },
        "id": "9QfjP3q-Q04f",
        "outputId": "b09752cd-bd33-4513-9fc4-98af2b78eeed"
      },
      "execution_count": 4,
      "outputs": [
        {
          "output_type": "stream",
          "name": "stdout",
          "text": [
            "Running phold\n",
            "phold completed successfully.\n",
            "Your output is in output_phold.\n",
            "Zipping the output directory so you can download it all in one go.\n",
            "Output directory has been zipped to output_phold.zip\n"
          ]
        }
      ]
    }
  ]
}
